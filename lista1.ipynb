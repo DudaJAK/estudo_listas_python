{
 "cells": [
  {
   "cell_type": "markdown",
   "id": "8f896256",
   "metadata": {},
   "source": [
    "# listas\n"
   ]
  },
  {
   "cell_type": "code",
   "execution_count": 10,
   "id": "88e8b582",
   "metadata": {},
   "outputs": [],
   "source": [
    "#criacao de lista\n",
    "lista1 = [1, 'a', 2.3]\n",
    "lista2 = [1,2,3,4,5,6]\n"
   ]
  },
  {
   "cell_type": "code",
   "execution_count": 11,
   "id": "9106049e",
   "metadata": {},
   "outputs": [
    {
     "name": "stdout",
     "output_type": "stream",
     "text": [
      "[1, 'a', 2.3]\n",
      "[1, 2, 3, 4, 5, 6]\n"
     ]
    }
   ],
   "source": [
    "print(lista1)\n",
    "print(lista2)\n",
    "\n"
   ]
  },
  {
   "cell_type": "code",
   "execution_count": 7,
   "id": "b1419e71",
   "metadata": {},
   "outputs": [
    {
     "data": {
      "text/plain": [
       "1"
      ]
     },
     "execution_count": 7,
     "metadata": {},
     "output_type": "execute_result"
    }
   ],
   "source": [
    "#acessando os elementos da lista\n",
    "lista1 [0]"
   ]
  },
  {
   "cell_type": "code",
   "execution_count": 15,
   "id": "874bb653",
   "metadata": {},
   "outputs": [
    {
     "name": "stdout",
     "output_type": "stream",
     "text": [
      "2.3\n",
      "4\n"
     ]
    }
   ],
   "source": [
    "print(lista1[2])\n",
    "print(lista2[3])"
   ]
  },
  {
   "cell_type": "code",
   "execution_count": 18,
   "id": "795e1bf0",
   "metadata": {},
   "outputs": [],
   "source": [
    "#modificando 1 elemento da lista\n",
    "lista2[2] = 15\n"
   ]
  },
  {
   "cell_type": "code",
   "execution_count": 19,
   "id": "3952ec61",
   "metadata": {},
   "outputs": [
    {
     "name": "stdout",
     "output_type": "stream",
     "text": [
      "[1, 2, 15, 4, 5, 6]\n"
     ]
    }
   ],
   "source": [
    "#verificando a nova lista b\n",
    "print(lista2)"
   ]
  },
  {
   "cell_type": "markdown",
   "id": "ca46c3a7",
   "metadata": {},
   "source": [
    "## ordenacao de listas"
   ]
  },
  {
   "cell_type": "code",
   "execution_count": 22,
   "id": "058e9c96",
   "metadata": {},
   "outputs": [
    {
     "name": "stdout",
     "output_type": "stream",
     "text": [
      "[1, 2, 4, 5, 6, 15]\n"
     ]
    }
   ],
   "source": [
    "#ordenando a lista b\n",
    "\n",
    "c = sorted(lista2)\n",
    "\n",
    "print(c)"
   ]
  },
  {
   "cell_type": "code",
   "execution_count": 24,
   "id": "f2f81aff",
   "metadata": {},
   "outputs": [],
   "source": [
    "#usando o metodo sort\n",
    "d = lista2.sort()"
   ]
  },
  {
   "cell_type": "code",
   "execution_count": 25,
   "id": "3c208a9e",
   "metadata": {},
   "outputs": [
    {
     "name": "stdout",
     "output_type": "stream",
     "text": [
      "None\n"
     ]
    }
   ],
   "source": [
    "print(d)"
   ]
  },
  {
   "cell_type": "code",
   "execution_count": 26,
   "id": "bd935e77",
   "metadata": {},
   "outputs": [
    {
     "name": "stdout",
     "output_type": "stream",
     "text": [
      "[1, 2, 4, 5, 6, 15]\n"
     ]
    }
   ],
   "source": [
    "print(lista2)"
   ]
  },
  {
   "cell_type": "code",
   "execution_count": 28,
   "id": "57983dc7",
   "metadata": {},
   "outputs": [],
   "source": [
    "e = [2,13,6,9]"
   ]
  },
  {
   "cell_type": "code",
   "execution_count": 29,
   "id": "b02e180e",
   "metadata": {},
   "outputs": [
    {
     "name": "stdout",
     "output_type": "stream",
     "text": [
      "None\n"
     ]
    }
   ],
   "source": [
    "print(e.sort())\n"
   ]
  },
  {
   "cell_type": "code",
   "execution_count": 30,
   "id": "2c6bbf79",
   "metadata": {},
   "outputs": [
    {
     "name": "stdout",
     "output_type": "stream",
     "text": [
      "[2, 6, 9, 13]\n"
     ]
    }
   ],
   "source": [
    "print(e)"
   ]
  },
  {
   "cell_type": "code",
   "execution_count": null,
   "id": "41631518",
   "metadata": {},
   "outputs": [],
   "source": []
  }
 ],
 "metadata": {
  "kernelspec": {
   "display_name": "Python 3 (ipykernel)",
   "language": "python",
   "name": "python3"
  },
  "language_info": {
   "codemirror_mode": {
    "name": "ipython",
    "version": 3
   },
   "file_extension": ".py",
   "mimetype": "text/x-python",
   "name": "python",
   "nbconvert_exporter": "python",
   "pygments_lexer": "ipython3",
   "version": "3.10.9"
  }
 },
 "nbformat": 4,
 "nbformat_minor": 5
}
